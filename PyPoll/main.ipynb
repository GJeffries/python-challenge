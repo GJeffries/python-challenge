{
 "cells": [
  {
   "cell_type": "code",
   "execution_count": 12,
   "id": "9712031d",
   "metadata": {},
   "outputs": [
    {
     "name": "stdout",
     "output_type": "stream",
     "text": [
      "Election Results\n",
      "---------------------------\n",
      "Total Votes: 3521001\n",
      "---------------------------\n",
      "Khan: 63.000%(2218231)\n",
      "Correy: 20.000%(704200)\n",
      "Li: 14.000%(492940)\n",
      "Otooley: 3.000%(105630)\n",
      "---------------------------\n",
      "Winner: Khan\n",
      "---------------------------\n"
     ]
    }
   ],
   "source": [
    "#Import Dependancies\n",
    "import os\n",
    "import csv\n",
    "\n",
    "#Set CSV File Path\n",
    "csv_path = os.path.join('Resources', 'election_data.csv')\n",
    "\n",
    "#Variables\n",
    "total_votes = 0\n",
    "khan = 0\n",
    "correy = 0\n",
    "li = 0\n",
    "otooley = 0\n",
    "\n",
    "#Read CSV File\n",
    "with open(csv_path, 'r') as csv_file:\n",
    "\n",
    "    #Set Data and Delimiter as ,\n",
    "    csv_data = csv.reader(csv_file, delimiter = ',')\n",
    "    \n",
    "    #Define Header\n",
    "    header = next(csv_data)\n",
    "\n",
    "    #Loop Through Row in Data\n",
    "    for row in csv_data:\n",
    "\n",
    "        #Calculate Total Votes\n",
    "        total_votes += 1\n",
    "\n",
    "        #Calculate Each Candidate Votes\n",
    "        if (row[2] == \"Khan\"):\n",
    "            khan += 1\n",
    "        elif (row[2] == \"Correy\"):\n",
    "            correy += 1\n",
    "        elif (row[2] == \"Li\"):\n",
    "            li += 1\n",
    "        else:\n",
    "            otooley += 1\n",
    "\n",
    "    #Calcualte Each Candidates Votes as Percentage\n",
    "    khan_percentage = khan / total_votes\n",
    "    correy_percentage = correy / total_votes\n",
    "    li_percentage = li / total_votes\n",
    "    otooley_percentage = otooley / total_votes\n",
    "\n",
    "    #Calculate Winner\n",
    "    winner = max(khan, correy, li, otooley)\n",
    "    \n",
    "    if winner == khan:\n",
    "        winner_is = \"Khan\"\n",
    "    elif winner == correy:\n",
    "        winner_is = \"Correy\"\n",
    "    elif winner == li:\n",
    "        winner_is = \"Li\"\n",
    "    else:\n",
    "        winner_is = \"O'Tooley\"\n",
    "        \n",
    "#Analysis\n",
    "print(f\"Election Results\")\n",
    "print(f\"---------------------------\")\n",
    "print(f\"Total Votes: {total_votes}\")\n",
    "print(f\"---------------------------\")\n",
    "print(f\"Khan: {khan_percentage:.3%}({khan})\")\n",
    "print(f\"Correy: {correy_percentage:.3%}({correy})\")\n",
    "print(f\"Li: {li_percentage:.3%}({li})\")\n",
    "print(f\"Otooley: {otooley_percentage:.3%}({otooley})\")\n",
    "print(f\"---------------------------\")\n",
    "print(f\"Winner: {winner_is}\")\n",
    "print(f\"---------------------------\")"
   ]
  },
  {
   "cell_type": "code",
   "execution_count": null,
   "id": "f62f8a8c",
   "metadata": {},
   "outputs": [],
   "source": []
  }
 ],
 "metadata": {
  "kernelspec": {
   "display_name": "Python 3",
   "language": "python",
   "name": "python3"
  },
  "language_info": {
   "codemirror_mode": {
    "name": "ipython",
    "version": 3
   },
   "file_extension": ".py",
   "mimetype": "text/x-python",
   "name": "python",
   "nbconvert_exporter": "python",
   "pygments_lexer": "ipython3",
   "version": "3.8.8"
  }
 },
 "nbformat": 4,
 "nbformat_minor": 5
}
