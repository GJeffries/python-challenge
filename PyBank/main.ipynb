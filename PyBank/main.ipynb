{
 "cells": [
  {
   "cell_type": "code",
   "execution_count": 77,
   "id": "84a7e2da",
   "metadata": {},
   "outputs": [
    {
     "name": "stdout",
     "output_type": "stream",
     "text": [
      "Financial Analysis\n",
      "-----------------------------------------------------\n",
      "Total Months: 86\n",
      "Total: $38382578\n",
      "Average Change: $-2315.12\n",
      "Greatest Increase in Profits: Feb-2012 ($1926159)\n",
      "Greatest Decrease in Profits: Sep-2013 ($-2196167)\n"
     ]
    }
   ],
   "source": [
    "#Import Modules\n",
    "import os\n",
    "import csv\n",
    "\n",
    "#Variables\n",
    "total_months = 0\n",
    "total_net = 0\n",
    "monthly_change = []\n",
    "month_count = []\n",
    "greatest_increase = 0\n",
    "greatest_decrease = 0\n",
    "greatest_month_increase = 0\n",
    "greatest_month_decrease = 0\n",
    "\n",
    "#Set CSV File Path\n",
    "csv_path = os.path.join('Resources', 'budget_data.csv')\n",
    "\n",
    "#Read CSV File\n",
    "with open(csv_path, 'r') as csv_file:\n",
    "    \n",
    "    #Set Data and Delimiter as ,\n",
    "    csv_data = csv.reader(csv_file, delimiter = ',')\n",
    "    \n",
    "    #Define Header and Row\n",
    "    header = next(csv_data)\n",
    "    row = next(csv_data)\n",
    "    \n",
    "    #Set Variables\n",
    "    total_months +=1\n",
    "    total_net += int(row[1])\n",
    "    previous_row = int(row[1])\n",
    "    \n",
    "    #For Loop, Reading Each Row\n",
    "    for row in csv_data:\n",
    "        \n",
    "        #Calculate total months\n",
    "        total_months += 1\n",
    "        \n",
    "        #Calculate Net Profit & Loss\n",
    "        total_net += int(row[1])\n",
    "        \n",
    "        # Calculate Monthly Change\n",
    "        revenue_change = int(row[1]) - previous_row\n",
    "        monthly_change.append(revenue_change)\n",
    "        previous_row = int(row[1])\n",
    "        month_count.append(row[0])\n",
    "        \n",
    "        #Calculate Greatest Increase\n",
    "        if int(row[1]) > greatest_increase:\n",
    "            greatest_increase = int(row[1])\n",
    "            greatest_month_increase = row[0]\n",
    "        \n",
    "        #Calculate Greatest Decrease\n",
    "        if int(row[1]) < greatest_decrease:\n",
    "            greatest_decrease = int(row[1])\n",
    "            greatest_month_decrease = (row[0])\n",
    "            \n",
    "        # Calculate Average Change\n",
    "        average_change = sum(monthly_change)/ len(monthly_change)\n",
    "        \n",
    "        #Calculate Max and Min \n",
    "        highest = max(monthly_change)\n",
    "        lowest = min(monthly_change)\n",
    "            \n",
    "print(f\"Financial Analysis\")\n",
    "print(f\"-----------------------------------------------------\")\n",
    "print(f\"Total Months: {total_months}\")\n",
    "print(f\"Total: ${total_net}\")\n",
    "print(f\"Average Change: ${average_change:.2f}\")\n",
    "print(f\"Greatest Increase in Profits: {greatest_month_increase} (${highest})\")\n",
    "print(f\"Greatest Decrease in Profits: {greatest_month_decrease} (${lowest})\")"
   ]
  },
  {
   "cell_type": "code",
   "execution_count": null,
   "id": "dc083c0f",
   "metadata": {},
   "outputs": [],
   "source": []
  }
 ],
 "metadata": {
  "kernelspec": {
   "display_name": "Python 3",
   "language": "python",
   "name": "python3"
  },
  "language_info": {
   "codemirror_mode": {
    "name": "ipython",
    "version": 3
   },
   "file_extension": ".py",
   "mimetype": "text/x-python",
   "name": "python",
   "nbconvert_exporter": "python",
   "pygments_lexer": "ipython3",
   "version": "3.8.8"
  }
 },
 "nbformat": 4,
 "nbformat_minor": 5
}
